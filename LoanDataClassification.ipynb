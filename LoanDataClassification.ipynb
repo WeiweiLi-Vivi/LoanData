{
 "cells": [
  {
   "cell_type": "code",
   "execution_count": 32,
   "metadata": {
    "collapsed": false
   },
   "outputs": [],
   "source": [
    "import pandas as pd\n",
    "import numpy as np\n",
    "from sklearn.feature_extraction import DictVectorizer as DV\n",
    "from sklearn.model_selection import train_test_split\n",
    "#from sklearn.preprocessing import normalize\n",
    "from sklearn import preprocessing\n",
    "from imblearn.over_sampling import SMOTE \n",
    "from sklearn.ensemble import RandomForestClassifier\n",
    "from sklearn.metrics import recall_score\n",
    "%matplotlib inline  \n"
   ]
  },
  {
   "cell_type": "code",
   "execution_count": 2,
   "metadata": {
    "collapsed": true
   },
   "outputs": [],
   "source": [
    "path = \"/Users/weiweili/Documents/InterviewProjects/LoanData/\""
   ]
  },
  {
   "cell_type": "code",
   "execution_count": 3,
   "metadata": {
    "collapsed": false
   },
   "outputs": [],
   "source": [
    "data = pd.read_csv(path+\"LoanData.csv\")"
   ]
  },
  {
   "cell_type": "code",
   "execution_count": 4,
   "metadata": {
    "collapsed": false
   },
   "outputs": [
    {
     "data": {
      "text/plain": [
       "(39786, 22)"
      ]
     },
     "execution_count": 4,
     "metadata": {},
     "output_type": "execute_result"
    }
   ],
   "source": [
    "data.shape"
   ]
  },
  {
   "cell_type": "code",
   "execution_count": 5,
   "metadata": {
    "collapsed": false
   },
   "outputs": [
    {
     "data": {
      "text/plain": [
       "loan_amnt            int64\n",
       "term                object\n",
       "int_rate            object\n",
       "installment        float64\n",
       "sub_grade           object\n",
       "emp_length          object\n",
       "home_ownership      object\n",
       "annual_inc         float64\n",
       "is_inc_v            object\n",
       "loan_status         object\n",
       "desc                object\n",
       "purpose             object\n",
       "addr_state          object\n",
       "dti                float64\n",
       "delinq_2yrs          int64\n",
       "fico_range_low       int64\n",
       "fico_range_high      int64\n",
       "inq_last_6mths       int64\n",
       "open_acc             int64\n",
       "revol_bal            int64\n",
       "revol_util          object\n",
       "total_acc            int64\n",
       "dtype: object"
      ]
     },
     "execution_count": 5,
     "metadata": {},
     "output_type": "execute_result"
    }
   ],
   "source": [
    "data.dtypes"
   ]
  },
  {
   "cell_type": "code",
   "execution_count": 6,
   "metadata": {
    "collapsed": true
   },
   "outputs": [],
   "source": [
    "#merged \"fico_range_high and ficco_range_low\" to one field \"fico_avg\" by averaging the\n",
    "#previous two fields.\n",
    "data['fico_avg'] = data[['fico_range_low', 'fico_range_high']].mean(axis = 1)"
   ]
  },
  {
   "cell_type": "code",
   "execution_count": 7,
   "metadata": {
    "collapsed": false
   },
   "outputs": [],
   "source": [
    "data.drop(['fico_range_low', 'fico_range_high'],1, inplace = True)"
   ]
  },
  {
   "cell_type": "code",
   "execution_count": 8,
   "metadata": {
    "collapsed": false
   },
   "outputs": [],
   "source": [
    "#data.groupby('loan_status').count()"
   ]
  },
  {
   "cell_type": "code",
   "execution_count": 9,
   "metadata": {
    "collapsed": false
   },
   "outputs": [],
   "source": [
    "#1: charged off, default, late(16-30 days), late(31-120 days)\n",
    "#0: current, fully paid, in grace period\n",
    "data['loan_status'] = np.where((data['loan_status'] == 'Current') | \n",
    "                               (data['loan_status'] =='Fully Paid') |\n",
    "                            (data['loan_status'] =='In Grace Period'), 0, 1)\n"
   ]
  },
  {
   "cell_type": "code",
   "execution_count": 10,
   "metadata": {
    "collapsed": true
   },
   "outputs": [],
   "source": [
    "#sub_grade col: create a dictionary for sub_grade, A1:1, A2:2,....\n",
    "dictgrade = dict()\n",
    "beginNum = ord('A')\n",
    "endNum = ord('G')\n",
    "count = 0\n",
    "for number in range(beginNum, endNum+1):\n",
    "    for num in range(1, 6):\n",
    "        count += 1\n",
    "        dictgrade[str(chr(number)) + str(num)] = count\n",
    "        \n",
    "data['sub_grade'] = data['sub_grade'].map(dictgrade)"
   ]
  },
  {
   "cell_type": "code",
   "execution_count": 11,
   "metadata": {
    "collapsed": false
   },
   "outputs": [],
   "source": [
    "# emp_length col\n",
    "data = data[data['emp_length']!='n/a'] # remove missing values\n",
    "\n",
    "emplen = [x[0] for x in data['emp_length'].str.split(' ')]\n",
    "tmp = [10 if x=='10+'else x for x in emplen]\n",
    "tmp = [1 if x=='<' else x for x in tmp]\n",
    "\n",
    "data['emp_length'] = [float(x) for x in tmp]"
   ]
  },
  {
   "cell_type": "code",
   "execution_count": 12,
   "metadata": {
    "collapsed": false
   },
   "outputs": [],
   "source": [
    "#check if there is any nan value in the column\n",
    "#data['desc'].isnull().values.any()\n",
    "#how many nan value in the column\n",
    "#data['desc'].isnull().sum().sum()"
   ]
  },
  {
   "cell_type": "code",
   "execution_count": 13,
   "metadata": {
    "collapsed": false
   },
   "outputs": [],
   "source": [
    "# desc col\n",
    "desc = [0 if x is np.nan else len(x) for x in data['desc']] #fill Nan value as 0\n",
    "data['desc'] = desc\n",
    "data = data[data['desc'] != 0]  # remove missing values"
   ]
  },
  {
   "cell_type": "code",
   "execution_count": 14,
   "metadata": {
    "collapsed": false
   },
   "outputs": [],
   "source": [
    "# is_inc_v col: not verified: 0, verified: 1\n",
    "incv = [sent[0].split()[0].lower() for sent in data['is_inc_v'].str.split('')]\n",
    "incv = [0 if x == 'not' else 1 for x in incv]\n",
    "data['is_inc_v'] = incv"
   ]
  },
  {
   "cell_type": "code",
   "execution_count": 15,
   "metadata": {
    "collapsed": false
   },
   "outputs": [],
   "source": [
    "# int_rate and revol_util col\n",
    "int_rate = [x.replace('%','') for x in data['int_rate']]\n",
    "data['int_rate'] = [float(x) for x in int_rate]\n",
    "#fill Nan value as 0\n",
    "revol_util = [0 if x is np.nan else x.replace('%','') for x in data['revol_util']] \n",
    "data['revol_util'] = [float(x) for x in revol_util]\n",
    "data = data[data['revol_util'] != 0] #remove missing value"
   ]
  },
  {
   "cell_type": "code",
   "execution_count": 16,
   "metadata": {
    "collapsed": false,
    "scrolled": false
   },
   "outputs": [],
   "source": [
    "# term col\n",
    "#term = [month[0].split()[0] for month in data['term'].str.split('')]\n",
    "#term = [36 if x == '36' else 60 for x in term]\n",
    "#data['term'] = term"
   ]
  },
  {
   "cell_type": "code",
   "execution_count": 17,
   "metadata": {
    "collapsed": false
   },
   "outputs": [],
   "source": [
    "#data.dtypes()"
   ]
  },
  {
   "cell_type": "code",
   "execution_count": 76,
   "metadata": {
    "collapsed": false
   },
   "outputs": [],
   "source": [
    "cols = ['home_ownership']+['purpose']+['addr_state']+['term']\n",
    "cat_data = data[cols]\n",
    "\n",
    "vec = DV()\n",
    "cat_data = vec.fit_transform(cat_data.apply(dict,1)).toarray()\n",
    "cat_features = vec.get_feature_names()\n"
   ]
  },
  {
   "cell_type": "code",
   "execution_count": 19,
   "metadata": {
    "collapsed": false
   },
   "outputs": [],
   "source": [
    "cols1 = cols+['loan_status']\n",
    "dataExp = data.drop(cols1, axis = 1)\n",
    "data_complete = np.concatenate((dataExp, cat_data), axis=1)"
   ]
  },
  {
   "cell_type": "code",
   "execution_count": 90,
   "metadata": {
    "collapsed": false
   },
   "outputs": [
    {
     "data": {
      "text/plain": [
       "'fico_avg'"
      ]
     },
     "execution_count": 90,
     "metadata": {},
     "output_type": "execute_result"
    }
   ],
   "source": [
    "tot_features = np.concatenate((list(dataExp), cat_features), axis = 0)\n",
    "tot_features[10]"
   ]
  },
  {
   "cell_type": "code",
   "execution_count": 20,
   "metadata": {
    "collapsed": false
   },
   "outputs": [],
   "source": [
    "#normalize data \n",
    "#Min_Max_Scalling: An alternative approach to Z-score normalization (or standardization) \n",
    "#Compare to standardization (Z-score normalization):\n",
    "#Min_Max_Scalling end up with smaller standard deviations, which can suppress the effect of outliers.\n",
    "#http://sebastianraschka.com/Articles/2014_about_feature_scaling.html\n",
    "\n",
    "min_max_scaler = preprocessing.MinMaxScaler()\n",
    "data_norm = min_max_scaler.fit_transform(data_complete)\n",
    "#pd.DataFrame(data_norm)"
   ]
  },
  {
   "cell_type": "code",
   "execution_count": 21,
   "metadata": {
    "collapsed": true
   },
   "outputs": [],
   "source": [
    "# seperate label from the dataset\n",
    "label = data['loan_status'].astype(np.integer)"
   ]
  },
  {
   "cell_type": "code",
   "execution_count": 22,
   "metadata": {
    "collapsed": true
   },
   "outputs": [],
   "source": [
    "# split train and test datasets, train: 75% and test: 25%\n",
    "train_features, test_features, train_target, test_target = train_test_split(data_norm, label, test_size = 0.25)\n",
    "\n",
    "#train_features = pd.DataFrame(train_features)\n",
    "#train_features.to_csv('train_features.csv', index=False, header=True)\n"
   ]
  },
  {
   "cell_type": "code",
   "execution_count": null,
   "metadata": {
    "collapsed": true
   },
   "outputs": [],
   "source": []
  },
  {
   "cell_type": "code",
   "execution_count": 23,
   "metadata": {
    "collapsed": true
   },
   "outputs": [],
   "source": [
    "####---------- Classification Models ------------ ####"
   ]
  },
  {
   "cell_type": "code",
   "execution_count": 24,
   "metadata": {
    "collapsed": true
   },
   "outputs": [],
   "source": [
    "# a function of calculating True positive, true negative, false positive, false negative\n",
    "def perfmetrics(model, test, target):\n",
    "# calculate TP, TN, FP, FN\n",
    "    pred = model.predict(test)\n",
    "    TP, TN, FP, FN = 0, 0, 0, 0\n",
    "    for i in range(0, len(test)):\n",
    "        if 0.9 < pred[i] < 1.1:\n",
    "            if 0.9 < target[i] < 1.1:\n",
    "                TP += 1\n",
    "            else:\n",
    "                FP += 1\n",
    "        else:\n",
    "            if -0.1 < target[i] < 0.1:\n",
    "                TN += 1\n",
    "            else:\n",
    "                FN += 1\n",
    "    return (TP, TN, FP, FN)\n"
   ]
  },
  {
   "cell_type": "code",
   "execution_count": null,
   "metadata": {
    "collapsed": true
   },
   "outputs": [],
   "source": []
  },
  {
   "cell_type": "code",
   "execution_count": 25,
   "metadata": {
    "collapsed": false
   },
   "outputs": [
    {
     "name": "stdout",
     "output_type": "stream",
     "text": [
      "0    16560\n",
      "1     2578\n",
      "Name: loan_status, dtype: int64\n",
      "0    5512\n",
      "1     868\n",
      "Name: loan_status, dtype: int64\n"
     ]
    }
   ],
   "source": [
    "#imbalanced data problem, will solve the problem by oversampling the minority class\n",
    "#num_notDefault = sum(x == 0 for x in data['loan_status'])\n",
    "#num_Default = sum(x == 1 for x in data['loan_status'])\n",
    "\n",
    "#print len(data['loan_status']), num_notDefault, num_Default\n",
    "print train_target.value_counts()\n",
    "print test_target.value_counts()"
   ]
  },
  {
   "cell_type": "code",
   "execution_count": 26,
   "metadata": {
    "collapsed": false
   },
   "outputs": [
    {
     "name": "stdout",
     "output_type": "stream",
     "text": [
      "0    12425\n",
      "1     1928\n",
      "Name: loan_status, dtype: int64 [12425 12425]\n"
     ]
    }
   ],
   "source": [
    "#solve imbalanced data problem: \n",
    "#1. oversample using SMOTE Algorithm: https://beckernick.github.io/oversampling-modeling/\n",
    "#need to split x_train and x_validation first, in order to avoid the validation set has the synthetic data, which bleeds info.\n",
    "\n",
    "x_train, x_val, y_train, y_val = train_test_split(train_features, train_target, test_size = 0.25)\n",
    "\n",
    "sm = SMOTE(random_state=12, ratio = 1.0)\n",
    "x_train_res, y_train_res = sm.fit_sample(x_train, y_train)\n",
    "\n",
    "print y_train.value_counts(), np.bincount(y_train_res)\n"
   ]
  },
  {
   "cell_type": "code",
   "execution_count": 27,
   "metadata": {
    "collapsed": true
   },
   "outputs": [],
   "source": [
    "#'**** Random Forest ****'"
   ]
  },
  {
   "cell_type": "code",
   "execution_count": 28,
   "metadata": {
    "collapsed": false
   },
   "outputs": [
    {
     "data": {
      "text/plain": [
       "RandomForestClassifier(bootstrap=True, class_weight=None, criterion='gini',\n",
       "            max_depth=5, max_features=10, max_leaf_nodes=None,\n",
       "            min_impurity_split=1e-07, min_samples_leaf=1,\n",
       "            min_samples_split=2, min_weight_fraction_leaf=0.0,\n",
       "            n_estimators=10, n_jobs=1, oob_score=False, random_state=12,\n",
       "            verbose=0, warm_start=False)"
      ]
     },
     "execution_count": 28,
     "metadata": {},
     "output_type": "execute_result"
    }
   ],
   "source": [
    "# fit the model\n",
    "rf = RandomForestClassifier(max_depth=5, max_features=10,random_state=12)\n",
    "rf.fit(x_train_res, y_train_res)"
   ]
  },
  {
   "cell_type": "code",
   "execution_count": 29,
   "metadata": {
    "collapsed": false
   },
   "outputs": [
    {
     "name": "stdout",
     "output_type": "stream",
     "text": [
      "Validation Results\n",
      "0.608986415883\n",
      "0.573846153846\n",
      "\n",
      "Test Results\n",
      "0.617868338558\n",
      "0.58064516129\n"
     ]
    }
   ],
   "source": [
    "#validation\n",
    "print 'Validation Results'\n",
    "print rf.score(x_val, y_val)\n",
    "print recall_score(y_val, rf.predict(x_val))\n",
    "\n",
    "#test\n",
    "print '\\nTest Results'\n",
    "print rf.score(test_features, test_target)\n",
    "print recall_score(test_target, rf.predict(test_features))\n",
    "probs = rf.predict_proba(test_features)\n",
    "cla = rf.predict(test_features)"
   ]
  },
  {
   "cell_type": "code",
   "execution_count": 30,
   "metadata": {
    "collapsed": false
   },
   "outputs": [
    {
     "name": "stdout",
     "output_type": "stream",
     "text": [
      "True Positive 504\n",
      "False Positive 2074\n",
      "True Negative 3438\n",
      "False Negative 364\n"
     ]
    }
   ],
   "source": [
    "test_target_array = pd.Series.as_matrix(test_target)\n",
    "TP, TN, FP, FN = perfmetrics(rf, test_features, test_target_array)\n",
    "\n",
    "print 'True Positive', TP\n",
    "print 'False Positive', FP\n",
    "print 'True Negative', TN\n",
    "print 'False Negative', FN"
   ]
  },
  {
   "cell_type": "code",
   "execution_count": 95,
   "metadata": {
    "collapsed": false
   },
   "outputs": [
    {
     "name": "stdout",
     "output_type": "stream",
     "text": [
      "Feature ranking:\n",
      "1. feature 10 (0.253638)\n",
      "2. feature 15 (0.150015)\n",
      "3. feature 1 (0.141456)\n",
      "4. feature 3 (0.098721)\n",
      "5. feature 9 (0.088878)\n",
      "6. feature 86 (0.078275)\n",
      "7. feature 6 (0.016782)\n",
      "8. feature 13 (0.016496)\n",
      "9. feature 82 (0.016153)\n",
      "10. feature 7 (0.012777)\n"
     ]
    },
    {
     "data": {
      "image/png": "[encoded data removed]",
      "text/plain": [
       "<matplotlib.figure.Figure at 0x10fcd8fd0>"
      ]
     },
     "metadata": {},
     "output_type": "display_data"
    }
   ],
   "source": [
    "# Print the feature ranking\n",
    "import matplotlib.pyplot as plt\n",
    "importances = rf.feature_importances_\n",
    "indices = np.argsort(importances)[::-1]\n",
    "std = np.std([tree.feature_importances_ for tree in rf.estimators_],\n",
    "             axis=0)\n",
    "\n",
    "print(\"Feature ranking:\")\n",
    "\n",
    "for f in range(10):\n",
    "    print(\"%d. feature %d (%f)\" % (f + 1, indices[f], importances[indices[f]]))\n",
    "\n",
    "# Plot the feature importances of the forest\n",
    "plt.figure()\n",
    "plt.title(\"Feature importances\")\n",
    "plt.bar(range(10), importances[indices[0:10]],\n",
    "       color=\"r\", yerr=std[indices[0:10]], align=\"center\")\n",
    "plt.xticks(range(11), indices[0:10])\n",
    "plt.xlim([-1, 10])\n",
    "plt.show()\n"
   ]
  },
  {
   "cell_type": "code",
   "execution_count": 96,
   "metadata": {
    "collapsed": false
   },
   "outputs": [
    {
     "data": {
      "text/plain": [
       "inq_last_6mths                0.253638\n",
       "fico_avg                      0.150015\n",
       "int_rate                      0.141456\n",
       "sub_grade                     0.098721\n",
       "delinq_2yrs                   0.088878\n",
       "term= 60 months               0.078275\n",
       "is_inc_v                      0.016782\n",
       "revol_util                    0.016496\n",
       "purpose=small_business        0.016153\n",
       "desc                          0.012777\n",
       "emp_length                    0.012515\n",
       "loan_amnt                     0.012022\n",
       "open_acc                      0.011909\n",
       "revol_bal                     0.010826\n",
       "purpose=car                   0.010027\n",
       "annual_inc                    0.009148\n",
       "installment                   0.008418\n",
       "purpose=credit_card           0.008337\n",
       "purpose=debt_consolidation    0.005574\n",
       "total_acc                     0.004235\n",
       "purpose=major_purchase        0.004123\n",
       "addr_state=TX                 0.003694\n",
       "addr_state=PA                 0.003649\n",
       "dti                           0.003516\n",
       "addr_state=FL                 0.002774\n",
       "addr_state=RI                 0.002401\n",
       "addr_state=MI                 0.001998\n",
       "addr_state=CA                 0.001433\n",
       "term= 36 months               0.001332\n",
       "addr_state=NC                 0.001283\n",
       "                                ...   \n",
       "purpose=house                 0.000000\n",
       "addr_state=AZ                 0.000000\n",
       "purpose=vacation              0.000000\n",
       "purpose=educational           0.000000\n",
       "addr_state=HI                 0.000000\n",
       "addr_state=IA                 0.000000\n",
       "home_ownership=OWN            0.000000\n",
       "home_ownership=OTHER          0.000000\n",
       "home_ownership=NONE           0.000000\n",
       "addr_state=WY                 0.000000\n",
       "addr_state=WV                 0.000000\n",
       "addr_state=WI                 0.000000\n",
       "addr_state=WA                 0.000000\n",
       "addr_state=VT                 0.000000\n",
       "addr_state=VA                 0.000000\n",
       "addr_state=UT                 0.000000\n",
       "addr_state=TN                 0.000000\n",
       "addr_state=SD                 0.000000\n",
       "addr_state=SC                 0.000000\n",
       "addr_state=OR                 0.000000\n",
       "addr_state=OK                 0.000000\n",
       "addr_state=NJ                 0.000000\n",
       "addr_state=NH                 0.000000\n",
       "addr_state=NE                 0.000000\n",
       "addr_state=MT                 0.000000\n",
       "addr_state=MS                 0.000000\n",
       "addr_state=MD                 0.000000\n",
       "addr_state=IN                 0.000000\n",
       "addr_state=ID                 0.000000\n",
       "addr_state=ME                 0.000000\n",
       "dtype: float64"
      ]
     },
     "execution_count": 96,
     "metadata": {},
     "output_type": "execute_result"
    }
   ],
   "source": [
    "features_imp = pd.Series(importances, index=tot_features).sort_values(ascending=False)\n",
    " \n",
    "features_imp "
   ]
  },
  {
   "cell_type": "code",
   "execution_count": null,
   "metadata": {
    "collapsed": true
   },
   "outputs": [],
   "source": []
  },
  {
   "cell_type": "code",
   "execution_count": 140,
   "metadata": {
    "collapsed": false
   },
   "outputs": [
    {
     "name": "stdout",
     "output_type": "stream",
     "text": [
      "6380\n",
      "6380\n"
     ]
    },
    {
     "data": {
      "text/plain": [
       "<matplotlib.legend.Legend at 0x126098ed0>"
      ]
     },
     "execution_count": 140,
     "metadata": {},
     "output_type": "execute_result"
    },
    {
     "data": {
      "image/png": "[encoded data removed]",
      "text/plain": [
       "<matplotlib.figure.Figure at 0x125dcfd90>"
      ]
     },
     "metadata": {},
     "output_type": "display_data"
    }
   ],
   "source": [
    "# plot ROC  #\n",
    "#True positive: reject H0, when H0 is False     (Sensitivity : TPR = TP/N)\n",
    "#False positive (type I error): reject H0, when H0 is true.\n",
    "#True Negative: accept H0, when H0 is True      (specificity: TNR = TN/N)\n",
    "#False Negative(type II error) =beta: accept H0, when H0 is False\n",
    "#power(sensitivity) = 1- beta = 1- False Negative rate = True positive rate\n",
    "\n",
    "import matplotlib.pyplot as plt\n",
    "from sklearn.metrics import roc_curve, auc\n",
    "fpr = dict()\n",
    "tpr = dict()\n",
    "roc_auc = dict()\n",
    "for i in range(0, 2):\n",
    "    fpr[i], tpr[i], hold1 = roc_curve(test_target, probs[:, i])\n",
    "    roc_auc[i] = auc(fpr[i], tpr[i])  #auc: area under the curve\n",
    "\n",
    "print len(test_target)\n",
    "print len(probs[:, i])\n",
    "\n",
    "plt.figure()\n",
    "plt.plot(fpr[1], tpr[1], label='Random Forest (AUC = {0:0.4f})'.format(roc_auc[1]))\n",
    "\n",
    "plt.plot([0, 1], [0, 1], 'k--')\n",
    "plt.xlim([0.0, 1.0])\n",
    "plt.ylim([0.0, 1.05])\n",
    "plt.xlabel('False Positive Rate')\n",
    "plt.ylabel('True Positive Rate')\n",
    "plt.title('ROC of Random Forest')\n",
    "plt.legend(loc=\"lower right\")"
   ]
  },
  {
   "cell_type": "code",
   "execution_count": 133,
   "metadata": {
    "collapsed": false
   },
   "outputs": [],
   "source": [
    "#Logistic Regression\n",
    "from sklearn.linear_model import LogisticRegression\n",
    "lr = LogisticRegression(random_state=12)\n",
    "lr.fit(x_train_res, y_train_res)\n",
    "#print 'the accuracy of Logistic Regression is ', lr.score(test_features, test_target)\n",
    "#lr = LogisticRegression(class_weight='auto')\n",
    "#lr.fit(loan_train, target_train)\n",
    "probs = lr.predict_proba(test_features)"
   ]
  },
  {
   "cell_type": "code",
   "execution_count": 134,
   "metadata": {
    "collapsed": false
   },
   "outputs": [
    {
     "name": "stdout",
     "output_type": "stream",
     "text": [
      "\n",
      "Test Results\n",
      "0.637147335423\n",
      "0.645161290323\n"
     ]
    }
   ],
   "source": [
    "#test\n",
    "print '\\nTest Results'\n",
    "print lr.score(test_features, test_target)\n",
    "print recall_score(test_target, lr.predict(test_features))\n"
   ]
  },
  {
   "cell_type": "code",
   "execution_count": 135,
   "metadata": {
    "collapsed": false
   },
   "outputs": [
    {
     "name": "stdout",
     "output_type": "stream",
     "text": [
      "True Positive 560\n",
      "False Positive 2007\n",
      "True Negative 3505\n",
      "False Negative 308\n"
     ]
    }
   ],
   "source": [
    "TP, TN, FP, FN = perfmetrics(lr, test_features, test_target_array)\n",
    "\n",
    "print 'True Positive', TP\n",
    "print 'False Positive', FP\n",
    "print 'True Negative', TN\n",
    "print 'False Negative', FN"
   ]
  },
  {
   "cell_type": "code",
   "execution_count": 147,
   "metadata": {
    "collapsed": false
   },
   "outputs": [
    {
     "data": {
      "image/png": "[encoded data removed]",
      "text/plain": [
       "<matplotlib.figure.Figure at 0x125ddb9d0>"
      ]
     },
     "metadata": {},
     "output_type": "display_data"
    }
   ],
   "source": [
    "#Logistic Regression\n",
    "#from sklearn.linear_model import LogisticRegression\n",
    "#lr = LogisticRegression()\n",
    "#lr.fit(x_train_res, y_train_res)\n",
    "#print 'the accuracy of Logistic Regression is ', lr.score(test_features, test_target)\n",
    "#print 'the accuracy of balanced test data set is ', lr.score(loan_test_b, target_test_b)\n",
    "\n",
    "\n",
    "#probs = lr.predict_proba(test_features)\n",
    "fpr = dict()\n",
    "tpr = dict()\n",
    "roc_auc = dict()\n",
    "for i in range(0, 2):\n",
    "    fpr[i], tpr[i], hold1 = roc_curve(test_target, probs[:, i])\n",
    "    roc_auc[i] = auc(fpr[i], tpr[i])\n",
    "\n",
    "#plt.figure()\n",
    "plt.plot(fpr[1], tpr[1], label='Logistic Regression (AUC = {0:0.4f})'.format(roc_auc[1]))\n",
    "\n",
    "plt.plot([0, 1], [0, 1], 'k--')\n",
    "plt.xlim([0.0, 1.0])\n",
    "plt.ylim([0.0, 1.05])\n",
    "plt.xlabel('False Positive Rate')\n",
    "plt.ylabel('True Positive Rate')\n",
    "plt.title('ROC Comparison')\n",
    "plt.legend(loc=\"lower right\")\n",
    "plt.show()"
   ]
  },
  {
   "cell_type": "code",
   "execution_count": 146,
   "metadata": {
    "collapsed": false
   },
   "outputs": [
    {
     "data": {
      "text/plain": [
       "<matplotlib.legend.Legend at 0x1269076d0>"
      ]
     },
     "execution_count": 146,
     "metadata": {},
     "output_type": "execute_result"
    },
    {
     "data": {
      "image/png": "[encoded data removed]",
      "text/plain": [
       "<matplotlib.figure.Figure at 0x126767b10>"
      ]
     },
     "metadata": {},
     "output_type": "display_data"
    }
   ],
   "source": [
    "plt.figure(0).clf()\n",
    "\n",
    "import matplotlib.pyplot as plt\n",
    "from sklearn.metrics import roc_curve, auc\n",
    "probs = rf.predict_proba(test_features)\n",
    "fpr = dict()\n",
    "tpr = dict()\n",
    "roc_auc = dict()\n",
    "for i in range(0, 2):\n",
    "    fpr[i], tpr[i], hold1 = roc_curve(test_target, probs[:, i])\n",
    "    roc_auc[i] = auc(fpr[i], tpr[i])  #auc: area under the curve\n",
    "\n",
    "\n",
    "\n",
    "plt.plot(fpr[1], tpr[1], label='Random Forest (AUC = {0:0.4f})'.format(roc_auc[1]))\n",
    "\n",
    "plt.plot([0, 1], [0, 1], 'k--')\n",
    "plt.xlim([0.0, 1.0])\n",
    "plt.ylim([0.0, 1.05])\n",
    "plt.xlabel('False Positive Rate')\n",
    "plt.ylabel('True Positive Rate')\n",
    "plt.title('ROC of Random Forest')\n",
    "plt.legend(loc=\"lower right\")\n",
    "\n",
    "probs = lr.predict_proba(test_features)\n",
    "fpr = dict()\n",
    "tpr = dict()\n",
    "roc_auc = dict()\n",
    "for i in range(0, 2):\n",
    "    fpr[i], tpr[i], hold1 = roc_curve(test_target, probs[:, i])\n",
    "    roc_auc[i] = auc(fpr[i], tpr[i])\n",
    "\n",
    "\n",
    "plt.plot(fpr[1], tpr[1], label='Logistic Regression (AUC = {0:0.4f})'.format(roc_auc[1]))\n",
    "\n",
    "plt.legend(loc=0)\n"
   ]
  },
  {
   "cell_type": "code",
   "execution_count": null,
   "metadata": {
    "collapsed": true
   },
   "outputs": [],
   "source": []
  }
 ],
 "metadata": {
  "kernelspec": {
   "display_name": "Python 2",
   "language": "python",
   "name": "python2"
  },
  "language_info": {
   "codemirror_mode": {
    "name": "ipython",
    "version": 2
   },
   "file_extension": ".py",
   "mimetype": "text/x-python",
   "name": "python",
   "nbconvert_exporter": "python",
   "pygments_lexer": "ipython2",
   "version": "2.7.12"
  }
 },
 "nbformat": 4,
 "nbformat_minor": 0
}
